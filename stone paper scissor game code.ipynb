{
 "cells": [
  {
   "cell_type": "code",
   "execution_count": 3,
   "id": "920a1499",
   "metadata": {},
   "outputs": [],
   "source": [
    "import random"
   ]
  },
  {
   "cell_type": "code",
   "execution_count": 11,
   "id": "f84e3387",
   "metadata": {},
   "outputs": [
    {
     "name": "stdout",
     "output_type": "stream",
     "text": [
      "Player 1, choose your option (stone, paper, scissors): STONE\n",
      "Player 2 chose: scissors\n",
      "Player 1 wins!\n"
     ]
    }
   ],
   "source": [
    "def play_game():\n",
    "    options = [\"stone\", \"paper\", \"scissors\"]\n",
    "    \n",
    "    player1 = input(\"Player 1, choose your option (stone, paper, scissors): \")\n",
    "    player2 = random.choice(options)\n",
    "    player1=player1.lower()\n",
    "    print(\"Player 2 chose:\", player2)\n",
    "    \n",
    "    if player1 == player2:\n",
    "        print(\"It's a tie!\")\n",
    "    elif (player1 == \"stone\" and player2 == \"scissors\") or (player1 == \"scissors\" and player2 == \"paper\") or (player1 == \"paper\" and player2 == \"stone\"):\n",
    "        print(\"Player 1 wins!\")\n",
    "    else:\n",
    "        print(\"Player 2 wins!\")\n",
    "\n",
    "play_game()"
   ]
  },
  {
   "cell_type": "code",
   "execution_count": null,
   "id": "1a414abf",
   "metadata": {},
   "outputs": [],
   "source": []
  }
 ],
 "metadata": {
  "kernelspec": {
   "display_name": "Python 3 (ipykernel)",
   "language": "python",
   "name": "python3"
  },
  "language_info": {
   "codemirror_mode": {
    "name": "ipython",
    "version": 3
   },
   "file_extension": ".py",
   "mimetype": "text/x-python",
   "name": "python",
   "nbconvert_exporter": "python",
   "pygments_lexer": "ipython3",
   "version": "3.11.4"
  }
 },
 "nbformat": 4,
 "nbformat_minor": 5
}
